# Download Data from kaggle
# #! pip install kaggle
# # copy file
# import shutil
# shutil.copy('./kaggle.json', 'C:/Users/ahmad/.kaggle')
# # change permission from git bash
# #chmod 600 C:/Users/ahmad/.kaggle/kaggle.json
# !kaggle datasets download -d dgomonov/new-york-city-airbnb-open-data
# !kaggle competitions download -c titanic

# Explore the Data

import pandas as pd
import matplotlib.pyplot as plt
import seaborn as sns
sns.set()
import plotly.express as px

from google.colab import drive
drive.mount('/content/drive')

df = pd.read_csv('/AB_NYC_2019.csv')
df.head()

df.head(3).T

df.info()

# change float format
pd.options.display.float_format = '{:,.2f}'.format

df.describe()

df.describe(include='object')

# check for missing values
df.isnull().mean() * 100

df.name.sample(5)

df.host_id.nunique()

df.host_id.value_counts().nlargest(10)

df.host_name.sample(5)

# Drop columns that are not useful
df.drop(['id', 'name', 'host_name'], axis=1, inplace=True)

df.sample(3).T

# Handling Missing Values

df.isnull().mean() * 100

df[df.last_review.isnull()].head(10).T

df.reviews_per_month.fillna(0, inplace=True)
df.last_review = pd.to_datetime(df.last_review)

df.last_review.min(), df.last_review.max()

# fill missing values with the minimum date (Just a convention)
df.last_review.fillna(df.last_review.min(), inplace=True)

df.isnull().sum()

# Neighbourhood Analysis

# categorical variables
cat_cols = df.select_dtypes(include='object').columns.tolist()
cat_cols

# explore categorical variables
for col in cat_cols:
    print(f'{col}: {df[col].nunique()}')


# explore neighbourhood_group
df.neighbourhood_group.value_counts()

nhg_pct = df.neighbourhood_group.value_counts(normalize = True)
nhg_pct

plt.pie(nhg_pct, labels=nhg_pct.index, autopct='%1.1f%%');

df.groupby(['neighbourhood_group', 'room_type'])['price'].mean()

df.groupby(['neighbourhood_group', 'room_type'])['price'].mean().sort_values(ascending=False)

sns.barplot(x='neighbourhood_group', y='price', hue='room_type', data=df, order=df.neighbourhood_group.value_counts().index);

# facetgrid
g = sns.FacetGrid(df, col='room_type', height=4, aspect=1.5, palette='Set1')
g.map(sns.barplot, 'neighbourhood_group', 'price', order=df.neighbourhood_group.value_counts().index);


# facetgrid plotly
fig = px.histogram(df, x='neighbourhood_group', y='price', color='room_type', facet_col='room_type', facet_col_wrap=3,
                category_orders={'neighbourhood_group': df.neighbourhood_group.value_counts().index}, histfunc='avg')
fig.show()

pd.crosstab(index = df.neighbourhood_group, columns = df.room_type, values = df.price, aggfunc='mean')

nh_group_room = pd.pivot_table(df, index='neighbourhood_group', columns='room_type', values='price', aggfunc='mean')
nh_group_room

plt.figure(figsize=(12, 8))
sns.heatmap(nh_group_room, annot=True, fmt='.0f');

* The most expensive neighbourhood: `Manhattan`, then `Brooklyn` (`Entire home/apt or Private room`)
* The least expensive neighbourhood: `Brooklyn` (`Shared room`)
                
      > In general you can specify the room type  first, if it has high priority, then compare the prices of the neighbourhoods. Or, you can specify the neighbourhood first, if it has high priority, then compares the price of the room types.


# free rooms
df[df.price == 0]

df.neighbourhood.value_counts().nlargest(10)

sns.countplot(y='neighbourhood', data=df, order=df.neighbourhood.value_counts().nlargest(10).index);

df.groupby('neighbourhood')['price'].mean().nlargest(10)

df.groupby(['neighbourhood_group', 'neighbourhood'])['price'].mean().nlargest(10)

data = df.groupby(['neighbourhood_group', 'neighbourhood', 'room_type'])['price'].mean().nlargest(10).reset_index()
data

# Intersted in some city
def get_prices(city, max_price=200, room_type='Entire home/apt'):

    data = df[(df.neighbourhood_group == city) & (df.price < max_price) & (df.room_type == room_type)]
    data = data.groupby(['neighbourhood'])['price'].mean()
    return data

get_prices('Manhattan', 500, 'Private room').nlargest(10)

get_prices('Manhattan', 500, 'Private room').nsmallest(10)

px.histogram(df, x='price', color='room_type')

df.host_id.value_counts().nlargest(10)

# Location Analysis

plt.figure(figsize=(12, 8))
sns.scatterplot(x='longitude', y='latitude', data=df, hue='neighbourhood_group', palette='Set1');

px.scatter(df, x='longitude', y='latitude', color='neighbourhood_group' )

px.scatter(df, x='longitude', y='latitude', color='neighbourhood_group', size='price', size_max=15, hover_name='neighbourhood')

df.price.describe()

sns.boxplot(x='price', data=df);

df[df.price>1000].shape[0] /df.shape[0] * 100

df2 = df[df.price>1000]
df2.head(3).T

df.shape

px.scatter(df[df.price>1000], x='longitude', y='latitude', color='neighbourhood_group', size='price', size_max=15, hover_name='neighbourhood')

# Availability Analysis

df.availability_365.value_counts()

# Minimum Nights Analysis

df.minimum_nights.value_counts()

# Reviews Analysis

px.histogram(df, x='reviews_per_month')

px.histogram(df, x='number_of_reviews')

px.box(df, x='neighbourhood_group', y='price')

px.box(df[df.price<1000], x='neighbourhood_group', y='price')

px.box(df, x='room_type', y='price')

px.scatter(df, x='number_of_reviews', y='price')

sns.pairplot(df[['price', 'minimum_nights', 'number_of_reviews', 'reviews_per_month', 'calculated_host_listings_count', 'availability_365']]);

df.sort_values('number_of_reviews', ascending=False).head(10)

# Tasks
> 1. Create a new column called `distance` that contains the distance between the property and the city center (latitude: 40.7128, longitude: -74.0060).

# New York City Center Coordinates
lat = 40.7128
lon = -74.0060

# create "distance" feature
import geopy.distance

def get_distance(lat1, lon1, lat2=lat, lon2=lon):
    coords_1 = (lat1, lon1)
    coords_2 = (lat2, lon2)
    return geopy.distance.distance(coords_1, coords_2).km

df['distance'] = df.apply(lambda x: get_distance(x.latitude, x.longitude), axis=1)

df.sample()

df.groupby('neighbourhood_group')['distance'].mean()

         Manhattan and Brooklyn are the nearest to the city center.

df.groupby(['neighbourhood_group', 'room_type'])['price'].mean().sort_values(ascending=False)

df.groupby(['neighbourhood_group', 'room_type'])['price'].median().sort_values(ascending=False)

df.price.describe()

df.groupby(['neighbourhood_group', 'neighbourhood', 'room_type'])['price'].mean().nlargest(10).reset_index()

df.groupby(['neighbourhood_group', 'neighbourhood', 'room_type'])['price'].median().nlargest(10).reset_index()

df2= df[df.price<1000]
df2.groupby(['neighbourhood_group', 'neighbourhood', 'room_type'])['price'].mean().nlargest(10).reset_index()

df2= df[df.price<1000]
df2.groupby(['neighbourhood_group', 'neighbourhood', 'room_type'])['price'].median().nlargest(10).reset_index()

df2.price.describe()
